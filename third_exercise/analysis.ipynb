{
 "metadata": {
  "language_info": {
   "codemirror_mode": {
    "name": "ipython",
    "version": 3
   },
   "file_extension": ".py",
   "mimetype": "text/x-python",
   "name": "python",
   "nbconvert_exporter": "python",
   "pygments_lexer": "ipython3",
   "version": "3.7.4"
  },
  "orig_nbformat": 2,
  "kernelspec": {
   "name": "python374jvsc74a57bd0af89497c4e8057e175402def235abfa1aded3fc6a7e07a9b8e31493545d3c7bf",
   "display_name": "Python 3.7.4 64-bit ('base': conda)"
  }
 },
 "nbformat": 4,
 "nbformat_minor": 2,
 "cells": [
  {
   "cell_type": "code",
   "execution_count": 1,
   "metadata": {},
   "outputs": [],
   "source": [
    "import pandas as pd"
   ]
  },
  {
   "cell_type": "code",
   "execution_count": 2,
   "metadata": {},
   "outputs": [],
   "source": [
    "results = pd.read_csv(\"results.csv\", sep=\";\")\n",
    "results_vec = pd.read_csv(\"results_vec.csv\", sep=\";\")\n",
    "results_mp = pd.read_csv(\"results_mp.csv\", sep=\";\")\n",
    "results_mp_vec = pd.read_csv(\"results_mp_vec.csv\", sep=\";\")"
   ]
  },
  {
   "cell_type": "code",
   "execution_count": 3,
   "metadata": {},
   "outputs": [],
   "source": [
    "results[\"optimization\"] = \"none\"\n",
    "results_vec[\"optimization\"] = \"vectorization\"\n",
    "results_mp[\"optimization\"] = \"parallelization\"\n",
    "results_mp_vec[\"optimization\"] = \"vectorization and parallelization\""
   ]
  },
  {
   "cell_type": "code",
   "execution_count": 4,
   "metadata": {},
   "outputs": [],
   "source": [
    "all_results = results.append(results_vec).append(results_mp).append(results_mp_vec)"
   ]
  },
  {
   "cell_type": "code",
   "execution_count": 5,
   "metadata": {},
   "outputs": [
    {
     "output_type": "execute_result",
     "data": {
      "text/plain": [
       "    num_threads    nx    result    seconds                       optimization\n",
       "0             1   512  0.040274   3.066030                               none\n",
       "1             1  1024  0.057828  12.817000                               none\n",
       "2             1  2048  0.082086  58.485100                               none\n",
       "0             1   512  0.040274   3.090620                      vectorization\n",
       "1             1  1024  0.057828  12.588600                      vectorization\n",
       "2             1  2048  0.082086  56.056900                      vectorization\n",
       "0             1   512  0.040274   3.972600                    parallelization\n",
       "1             2   512  0.040274   2.462810                    parallelization\n",
       "2             3   512  0.040274   1.922650                    parallelization\n",
       "3             4   512  0.040274   1.663770                    parallelization\n",
       "4             5   512  0.040269   1.476700                    parallelization\n",
       "5             6   512  0.040274   1.380380                    parallelization\n",
       "6             7   512  0.040274   1.258870                    parallelization\n",
       "7             8   512  0.040271   3.037720                    parallelization\n",
       "8             1  1024  0.057828  13.814200                    parallelization\n",
       "9             2  1024  0.057828   8.510860                    parallelization\n",
       "10            3  1024  0.057828   7.126620                    parallelization\n",
       "11            4  1024  0.057828   5.844630                    parallelization\n",
       "12            5  1024  0.057828   5.491010                    parallelization\n",
       "13            6  1024  0.057828   5.407130                    parallelization\n",
       "14            7  1024  0.057828   5.219590                    parallelization\n",
       "15            8  1024  0.057828   4.339230                    parallelization\n",
       "16            1  2048  0.082086  59.338600                    parallelization\n",
       "17            2  2048  0.082086  35.095100                    parallelization\n",
       "18            3  2048  0.082086  27.914300                    parallelization\n",
       "19            4  2048  0.082086  24.539400                    parallelization\n",
       "20            5  2048  0.082086  23.612500                    parallelization\n",
       "21            6  2048  0.082086  21.792000                    parallelization\n",
       "22            7  2048  0.082086  20.555800                    parallelization\n",
       "23            8  2048  0.082086  19.837500                    parallelization\n",
       "0             1   512  0.040274   3.038050  vectorization and parallelization\n",
       "1             2   512  0.040274   1.653230  vectorization and parallelization\n",
       "2             3   512  0.040274   1.334110  vectorization and parallelization\n",
       "3             4   512  0.040274   1.204500  vectorization and parallelization\n",
       "4             5   512  0.040274   1.066520  vectorization and parallelization\n",
       "5             6   512  0.040274   0.943874  vectorization and parallelization\n",
       "6             7   512  0.040274   1.062790  vectorization and parallelization\n",
       "7             8   512  0.040275   1.646120  vectorization and parallelization\n",
       "8             1  1024  0.057828  13.211700  vectorization and parallelization\n",
       "9             2  1024  0.057828   7.613980  vectorization and parallelization\n",
       "10            3  1024  0.057828   5.840580  vectorization and parallelization\n",
       "11            4  1024  0.057828   5.965010  vectorization and parallelization\n",
       "12            5  1024  0.057828   5.784170  vectorization and parallelization\n",
       "13            6  1024  0.057828   5.018770  vectorization and parallelization\n",
       "14            7  1024  0.057828   4.296180  vectorization and parallelization\n",
       "15            8  1024  0.057828   5.664610  vectorization and parallelization\n",
       "16            1  2048  0.082086  63.757300  vectorization and parallelization\n",
       "17            2  2048  0.082086  39.850400  vectorization and parallelization\n",
       "18            3  2048  0.082086  30.430600  vectorization and parallelization\n",
       "19            4  2048  0.082086  24.903000  vectorization and parallelization\n",
       "20            5  2048  0.082086  23.097300  vectorization and parallelization\n",
       "21            6  2048  0.082086  21.642600  vectorization and parallelization\n",
       "22            7  2048  0.082086  20.520300  vectorization and parallelization\n",
       "23            8  2048  0.082086  24.069700  vectorization and parallelization"
      ],
      "text/html": "<div>\n<style scoped>\n    .dataframe tbody tr th:only-of-type {\n        vertical-align: middle;\n    }\n\n    .dataframe tbody tr th {\n        vertical-align: top;\n    }\n\n    .dataframe thead th {\n        text-align: right;\n    }\n</style>\n<table border=\"1\" class=\"dataframe\">\n  <thead>\n    <tr style=\"text-align: right;\">\n      <th></th>\n      <th>num_threads</th>\n      <th>nx</th>\n      <th>result</th>\n      <th>seconds</th>\n      <th>optimization</th>\n    </tr>\n  </thead>\n  <tbody>\n    <tr>\n      <th>0</th>\n      <td>1</td>\n      <td>512</td>\n      <td>0.040274</td>\n      <td>3.066030</td>\n      <td>none</td>\n    </tr>\n    <tr>\n      <th>1</th>\n      <td>1</td>\n      <td>1024</td>\n      <td>0.057828</td>\n      <td>12.817000</td>\n      <td>none</td>\n    </tr>\n    <tr>\n      <th>2</th>\n      <td>1</td>\n      <td>2048</td>\n      <td>0.082086</td>\n      <td>58.485100</td>\n      <td>none</td>\n    </tr>\n    <tr>\n      <th>0</th>\n      <td>1</td>\n      <td>512</td>\n      <td>0.040274</td>\n      <td>3.090620</td>\n      <td>vectorization</td>\n    </tr>\n    <tr>\n      <th>1</th>\n      <td>1</td>\n      <td>1024</td>\n      <td>0.057828</td>\n      <td>12.588600</td>\n      <td>vectorization</td>\n    </tr>\n    <tr>\n      <th>2</th>\n      <td>1</td>\n      <td>2048</td>\n      <td>0.082086</td>\n      <td>56.056900</td>\n      <td>vectorization</td>\n    </tr>\n    <tr>\n      <th>0</th>\n      <td>1</td>\n      <td>512</td>\n      <td>0.040274</td>\n      <td>3.972600</td>\n      <td>parallelization</td>\n    </tr>\n    <tr>\n      <th>1</th>\n      <td>2</td>\n      <td>512</td>\n      <td>0.040274</td>\n      <td>2.462810</td>\n      <td>parallelization</td>\n    </tr>\n    <tr>\n      <th>2</th>\n      <td>3</td>\n      <td>512</td>\n      <td>0.040274</td>\n      <td>1.922650</td>\n      <td>parallelization</td>\n    </tr>\n    <tr>\n      <th>3</th>\n      <td>4</td>\n      <td>512</td>\n      <td>0.040274</td>\n      <td>1.663770</td>\n      <td>parallelization</td>\n    </tr>\n    <tr>\n      <th>4</th>\n      <td>5</td>\n      <td>512</td>\n      <td>0.040269</td>\n      <td>1.476700</td>\n      <td>parallelization</td>\n    </tr>\n    <tr>\n      <th>5</th>\n      <td>6</td>\n      <td>512</td>\n      <td>0.040274</td>\n      <td>1.380380</td>\n      <td>parallelization</td>\n    </tr>\n    <tr>\n      <th>6</th>\n      <td>7</td>\n      <td>512</td>\n      <td>0.040274</td>\n      <td>1.258870</td>\n      <td>parallelization</td>\n    </tr>\n    <tr>\n      <th>7</th>\n      <td>8</td>\n      <td>512</td>\n      <td>0.040271</td>\n      <td>3.037720</td>\n      <td>parallelization</td>\n    </tr>\n    <tr>\n      <th>8</th>\n      <td>1</td>\n      <td>1024</td>\n      <td>0.057828</td>\n      <td>13.814200</td>\n      <td>parallelization</td>\n    </tr>\n    <tr>\n      <th>9</th>\n      <td>2</td>\n      <td>1024</td>\n      <td>0.057828</td>\n      <td>8.510860</td>\n      <td>parallelization</td>\n    </tr>\n    <tr>\n      <th>10</th>\n      <td>3</td>\n      <td>1024</td>\n      <td>0.057828</td>\n      <td>7.126620</td>\n      <td>parallelization</td>\n    </tr>\n    <tr>\n      <th>11</th>\n      <td>4</td>\n      <td>1024</td>\n      <td>0.057828</td>\n      <td>5.844630</td>\n      <td>parallelization</td>\n    </tr>\n    <tr>\n      <th>12</th>\n      <td>5</td>\n      <td>1024</td>\n      <td>0.057828</td>\n      <td>5.491010</td>\n      <td>parallelization</td>\n    </tr>\n    <tr>\n      <th>13</th>\n      <td>6</td>\n      <td>1024</td>\n      <td>0.057828</td>\n      <td>5.407130</td>\n      <td>parallelization</td>\n    </tr>\n    <tr>\n      <th>14</th>\n      <td>7</td>\n      <td>1024</td>\n      <td>0.057828</td>\n      <td>5.219590</td>\n      <td>parallelization</td>\n    </tr>\n    <tr>\n      <th>15</th>\n      <td>8</td>\n      <td>1024</td>\n      <td>0.057828</td>\n      <td>4.339230</td>\n      <td>parallelization</td>\n    </tr>\n    <tr>\n      <th>16</th>\n      <td>1</td>\n      <td>2048</td>\n      <td>0.082086</td>\n      <td>59.338600</td>\n      <td>parallelization</td>\n    </tr>\n    <tr>\n      <th>17</th>\n      <td>2</td>\n      <td>2048</td>\n      <td>0.082086</td>\n      <td>35.095100</td>\n      <td>parallelization</td>\n    </tr>\n    <tr>\n      <th>18</th>\n      <td>3</td>\n      <td>2048</td>\n      <td>0.082086</td>\n      <td>27.914300</td>\n      <td>parallelization</td>\n    </tr>\n    <tr>\n      <th>19</th>\n      <td>4</td>\n      <td>2048</td>\n      <td>0.082086</td>\n      <td>24.539400</td>\n      <td>parallelization</td>\n    </tr>\n    <tr>\n      <th>20</th>\n      <td>5</td>\n      <td>2048</td>\n      <td>0.082086</td>\n      <td>23.612500</td>\n      <td>parallelization</td>\n    </tr>\n    <tr>\n      <th>21</th>\n      <td>6</td>\n      <td>2048</td>\n      <td>0.082086</td>\n      <td>21.792000</td>\n      <td>parallelization</td>\n    </tr>\n    <tr>\n      <th>22</th>\n      <td>7</td>\n      <td>2048</td>\n      <td>0.082086</td>\n      <td>20.555800</td>\n      <td>parallelization</td>\n    </tr>\n    <tr>\n      <th>23</th>\n      <td>8</td>\n      <td>2048</td>\n      <td>0.082086</td>\n      <td>19.837500</td>\n      <td>parallelization</td>\n    </tr>\n    <tr>\n      <th>0</th>\n      <td>1</td>\n      <td>512</td>\n      <td>0.040274</td>\n      <td>3.038050</td>\n      <td>vectorization and parallelization</td>\n    </tr>\n    <tr>\n      <th>1</th>\n      <td>2</td>\n      <td>512</td>\n      <td>0.040274</td>\n      <td>1.653230</td>\n      <td>vectorization and parallelization</td>\n    </tr>\n    <tr>\n      <th>2</th>\n      <td>3</td>\n      <td>512</td>\n      <td>0.040274</td>\n      <td>1.334110</td>\n      <td>vectorization and parallelization</td>\n    </tr>\n    <tr>\n      <th>3</th>\n      <td>4</td>\n      <td>512</td>\n      <td>0.040274</td>\n      <td>1.204500</td>\n      <td>vectorization and parallelization</td>\n    </tr>\n    <tr>\n      <th>4</th>\n      <td>5</td>\n      <td>512</td>\n      <td>0.040274</td>\n      <td>1.066520</td>\n      <td>vectorization and parallelization</td>\n    </tr>\n    <tr>\n      <th>5</th>\n      <td>6</td>\n      <td>512</td>\n      <td>0.040274</td>\n      <td>0.943874</td>\n      <td>vectorization and parallelization</td>\n    </tr>\n    <tr>\n      <th>6</th>\n      <td>7</td>\n      <td>512</td>\n      <td>0.040274</td>\n      <td>1.062790</td>\n      <td>vectorization and parallelization</td>\n    </tr>\n    <tr>\n      <th>7</th>\n      <td>8</td>\n      <td>512</td>\n      <td>0.040275</td>\n      <td>1.646120</td>\n      <td>vectorization and parallelization</td>\n    </tr>\n    <tr>\n      <th>8</th>\n      <td>1</td>\n      <td>1024</td>\n      <td>0.057828</td>\n      <td>13.211700</td>\n      <td>vectorization and parallelization</td>\n    </tr>\n    <tr>\n      <th>9</th>\n      <td>2</td>\n      <td>1024</td>\n      <td>0.057828</td>\n      <td>7.613980</td>\n      <td>vectorization and parallelization</td>\n    </tr>\n    <tr>\n      <th>10</th>\n      <td>3</td>\n      <td>1024</td>\n      <td>0.057828</td>\n      <td>5.840580</td>\n      <td>vectorization and parallelization</td>\n    </tr>\n    <tr>\n      <th>11</th>\n      <td>4</td>\n      <td>1024</td>\n      <td>0.057828</td>\n      <td>5.965010</td>\n      <td>vectorization and parallelization</td>\n    </tr>\n    <tr>\n      <th>12</th>\n      <td>5</td>\n      <td>1024</td>\n      <td>0.057828</td>\n      <td>5.784170</td>\n      <td>vectorization and parallelization</td>\n    </tr>\n    <tr>\n      <th>13</th>\n      <td>6</td>\n      <td>1024</td>\n      <td>0.057828</td>\n      <td>5.018770</td>\n      <td>vectorization and parallelization</td>\n    </tr>\n    <tr>\n      <th>14</th>\n      <td>7</td>\n      <td>1024</td>\n      <td>0.057828</td>\n      <td>4.296180</td>\n      <td>vectorization and parallelization</td>\n    </tr>\n    <tr>\n      <th>15</th>\n      <td>8</td>\n      <td>1024</td>\n      <td>0.057828</td>\n      <td>5.664610</td>\n      <td>vectorization and parallelization</td>\n    </tr>\n    <tr>\n      <th>16</th>\n      <td>1</td>\n      <td>2048</td>\n      <td>0.082086</td>\n      <td>63.757300</td>\n      <td>vectorization and parallelization</td>\n    </tr>\n    <tr>\n      <th>17</th>\n      <td>2</td>\n      <td>2048</td>\n      <td>0.082086</td>\n      <td>39.850400</td>\n      <td>vectorization and parallelization</td>\n    </tr>\n    <tr>\n      <th>18</th>\n      <td>3</td>\n      <td>2048</td>\n      <td>0.082086</td>\n      <td>30.430600</td>\n      <td>vectorization and parallelization</td>\n    </tr>\n    <tr>\n      <th>19</th>\n      <td>4</td>\n      <td>2048</td>\n      <td>0.082086</td>\n      <td>24.903000</td>\n      <td>vectorization and parallelization</td>\n    </tr>\n    <tr>\n      <th>20</th>\n      <td>5</td>\n      <td>2048</td>\n      <td>0.082086</td>\n      <td>23.097300</td>\n      <td>vectorization and parallelization</td>\n    </tr>\n    <tr>\n      <th>21</th>\n      <td>6</td>\n      <td>2048</td>\n      <td>0.082086</td>\n      <td>21.642600</td>\n      <td>vectorization and parallelization</td>\n    </tr>\n    <tr>\n      <th>22</th>\n      <td>7</td>\n      <td>2048</td>\n      <td>0.082086</td>\n      <td>20.520300</td>\n      <td>vectorization and parallelization</td>\n    </tr>\n    <tr>\n      <th>23</th>\n      <td>8</td>\n      <td>2048</td>\n      <td>0.082086</td>\n      <td>24.069700</td>\n      <td>vectorization and parallelization</td>\n    </tr>\n  </tbody>\n</table>\n</div>"
     },
     "metadata": {},
     "execution_count": 5
    }
   ],
   "source": [
    "all_results"
   ]
  }
 ]
}